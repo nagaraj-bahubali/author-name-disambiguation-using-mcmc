{
 "cells": [
  {
   "cell_type": "code",
   "execution_count": null,
   "id": "7d64c7d6",
   "metadata": {},
   "outputs": [],
   "source": [
    "\"\"\"\n",
    "This is data pre-processing script which has to be run on Aminer-534K dataset (https://zenodo.org/record/5675801#.Y2i99OzMK3J)\n",
    "\"\"\""
   ]
  },
  {
   "cell_type": "code",
   "execution_count": 1,
   "id": "ce465d5d",
   "metadata": {},
   "outputs": [],
   "source": [
    "import json\n",
    "import glob, os\n",
    "import re\n",
    "import pickle\n",
    "from gensim.utils import simple_preprocess\n",
    "\n",
    "gl_author_id = 1\n",
    "gl_reference_id = 1\n"
   ]
  },
  {
   "cell_type": "code",
   "execution_count": 2,
   "id": "1b05f193",
   "metadata": {},
   "outputs": [],
   "source": [
    "# path to dump pre-processed dataset \n",
    "and_path = \"../and_data/\" \n",
    "os.makedirs(and_path, exist_ok=True)\n",
    "\n",
    "# path to dump new list of atomic names\n",
    "meta_path = \"../meta_data/\" \n",
    "os.makedirs(meta_path, exist_ok=True)"
   ]
  },
  {
   "cell_type": "code",
   "execution_count": 3,
   "id": "f6ebe5e7",
   "metadata": {},
   "outputs": [],
   "source": [
    "with open(\"../data/global/name_to_pubs_test_100.json\", \"r\") as f1:\n",
    "    name_to_pubs = json.load(f1)\n",
    "\n",
    "with open(\"../data/global/pubs_raw.json\", \"r\") as f2:\n",
    "    pubs_raw = json.load(f2)"
   ]
  },
  {
   "cell_type": "code",
   "execution_count": 4,
   "id": "86d4b05f",
   "metadata": {},
   "outputs": [],
   "source": [
    "# Create and atomic files\n",
    "for atomic_name in name_to_pubs:\n",
    "    file_content = \"\"\n",
    "    atomic_records = name_to_pubs[atomic_name]\n",
    "    \n",
    "    for auth_id, paper_ids  in atomic_records.items():\n",
    "        paper_ids = set([re.sub('-\\d+', '', paper_id) for paper_id in paper_ids])\n",
    "        \n",
    "        for paper_id in paper_ids:\n",
    "            \n",
    "            publication = pubs_raw[paper_id]\n",
    "            authors = publication.get('authors','')\n",
    "            title = publication.get('title','')\n",
    "            title = simple_preprocess(str(title).encode('utf-8'), deacc=True)\n",
    "            title = \" \".join(title)\n",
    "            journal = publication.get('venue','')\n",
    "            year = publication.get('year','')\n",
    "            \n",
    "            if authors == '' or title == '' or journal == '' or year == '':\n",
    "                continue\n",
    "            \n",
    "            authorId = gl_author_id\n",
    "            referenceId = gl_reference_id\n",
    "            gl_reference_id = gl_reference_id + 1\n",
    "            \n",
    "            authorName = next(rec for rec in authors if rec[\"id\"] == auth_id)['name']\n",
    "            coauthors = \";\".join(rec[\"name\"] + \"@\" + rec.get(\"org\", \"\") for rec in authors)\n",
    "            \n",
    "            file_content += str(authorId) + \"_\" + str(referenceId) + \"|\" + str.lower(authorName) + \"<>\" + str.lower(coauthors) + \"<>\" + str.lower(title) + \"<>\" + str.lower(journal) + \"<>\" + str(year) + \"\\n\" \n",
    "    \n",
    "        gl_author_id = gl_author_id + 1\n",
    "    \n",
    "    \n",
    "    text_file = open(and_path + str.lower(atomic_name) + \".txt\", \"w\")\n",
    "    text_file.write(file_content)\n",
    "    text_file.close()\n",
    "        "
   ]
  },
  {
   "cell_type": "code",
   "execution_count": 5,
   "id": "e6eeeded",
   "metadata": {},
   "outputs": [],
   "source": [
    "# Dump atomic names list\n",
    "\n",
    "os.chdir(and_path)\n",
    "atomic_names_list = [file[:-4] for file in glob.glob(\"*.txt\") ]\n",
    "\n",
    "with open(meta_path + 'atomic_names_list.pickle', 'wb') as handle:\n",
    "    pickle.dump(atomic_names_list, handle, protocol=pickle.HIGHEST_PROTOCOL)"
   ]
  },
  {
   "cell_type": "code",
   "execution_count": null,
   "id": "e67ce29e",
   "metadata": {},
   "outputs": [],
   "source": []
  }
 ],
 "metadata": {
  "kernelspec": {
   "display_name": "Python 3.10.4 64-bit",
   "language": "python",
   "name": "python3"
  },
  "language_info": {
   "codemirror_mode": {
    "name": "ipython",
    "version": 3
   },
   "file_extension": ".py",
   "mimetype": "text/x-python",
   "name": "python",
   "nbconvert_exporter": "python",
   "pygments_lexer": "ipython3",
   "version": "3.10.4"
  },
  "vscode": {
   "interpreter": {
    "hash": "aee8b7b246df8f9039afb4144a1f6fd8d2ca17a180786b69acc140d282b71a49"
   }
  }
 },
 "nbformat": 4,
 "nbformat_minor": 5
}
