{
 "cells": [
  {
   "cell_type": "code",
   "execution_count": 1,
   "id": "956adb65",
   "metadata": {},
   "outputs": [],
   "source": [
    "import pickle\n",
    "import collections\n",
    "import json\n",
    "import requests"
   ]
  },
  {
   "cell_type": "code",
   "execution_count": 2,
   "id": "d6c5c596",
   "metadata": {},
   "outputs": [],
   "source": [
    "meta_path = \"../meta_data/\" "
   ]
  },
  {
   "cell_type": "code",
   "execution_count": 3,
   "id": "7905b501",
   "metadata": {},
   "outputs": [],
   "source": [
    "def fetch_ethnicity(f_name, l_name):\n",
    "    ethnicity = \"UNKNOWN\"\n",
    "    try:\n",
    "        response = requests.get(\n",
    "            \"http://abel.lis.illinois.edu/cgi-bin/ethnea/search.py?Fname=\" + f_name + \"&Lname=\" + l_name + \"&format=json\")\n",
    "        response = response.text\n",
    "        response = response.replace(\"'\", \"\\\"\")\n",
    "        json_response = json.loads(response)\n",
    "        ethnicity = json_response['Ethnea']\n",
    "    except:\n",
    "        print(\"Failed for :\",f_name,\" \",l_name)\n",
    "    return ethnicity"
   ]
  },
  {
   "cell_type": "code",
   "execution_count": 4,
   "id": "7a7e4cbd",
   "metadata": {},
   "outputs": [],
   "source": [
    "with open(meta_path + 'atomic_names_list.pickle', 'rb') as handle:\n",
    "    atomic_names_list = pickle.load(handle)\n",
    "\n",
    "atomic_name_ethnicity_dict = {}\n",
    "\n",
    "for atomic_name in atomic_names_list:\n",
    "    f_name,l_name = (atomic_name.rsplit('_', 1)[0], atomic_name.rsplit('_', 1)[1]) if (len(atomic_name.rsplit('_', 1)) == 2) else (atomic_name,atomic_name)\n",
    "    atomic_name_eth = fetch_ethnicity(f_name, l_name)\n",
    "    atomic_name_ethnicity_dict[atomic_name] = atomic_name_eth\n",
    "    \n",
    "with open(meta_path + 'ethnicities.pickle', 'wb') as handle:\n",
    "    pickle.dump(atomic_name_ethnicity_dict, handle, protocol=pickle.HIGHEST_PROTOCOL)\n",
    "    \n",
    "ethnicity_counts = collections.Counter(atomic_name_ethnicity_dict.values())\n",
    "with open(meta_path + 'ethnicity_counts.pickle', 'wb') as handle:\n",
    "    pickle.dump(ethnicity_counts, handle, protocol=pickle.HIGHEST_PROTOCOL)"
   ]
  }
 ],
 "metadata": {
  "kernelspec": {
   "display_name": "Python 3 (ipykernel)",
   "language": "python",
   "name": "python3"
  },
  "language_info": {
   "codemirror_mode": {
    "name": "ipython",
    "version": 3
   },
   "file_extension": ".py",
   "mimetype": "text/x-python",
   "name": "python",
   "nbconvert_exporter": "python",
   "pygments_lexer": "ipython3",
   "version": "3.9.7"
  }
 },
 "nbformat": 4,
 "nbformat_minor": 5
}
