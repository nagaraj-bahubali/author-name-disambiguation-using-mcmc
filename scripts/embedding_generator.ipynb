{
 "cells": [
  {
   "cell_type": "code",
   "execution_count": 1,
   "id": "4650cb55",
   "metadata": {},
   "outputs": [],
   "source": [
    "import numpy as np\n",
    "import pandas as pd\n",
    "import pickle\n",
    "import os\n",
    "\n",
    "from sentence_transformers import SentenceTransformer\n",
    "bert_model = SentenceTransformer('all-MiniLM-L6-v2')"
   ]
  },
  {
   "cell_type": "code",
   "execution_count": 2,
   "id": "0f3c24bb",
   "metadata": {},
   "outputs": [],
   "source": [
    "def read_atomic_file(atomic_name: str, file_path: str):\n",
    "    \"\"\"\n",
    "    Reads a certain atomic file and transforms the content in the form of dataframe\n",
    "\n",
    "    Parameters\n",
    "    atomic_name : Name of the atomic file.\n",
    "    file_path : Path where atomic file resides.\n",
    "\n",
    "    Returns\n",
    "    df : File content in the form of dataframe.\n",
    "    \"\"\"\n",
    "\n",
    "    df = pd.read_csv(file_path + atomic_name + '.txt',\n",
    "                     sep=\"_|\\||<>|<>|<>|<>\",\n",
    "                     names=['authorId', 'referenceId', 'authorName', 'coauthors', 'title', 'journal', 'year'],\n",
    "                     header=None,\n",
    "                     keep_default_na=True,\n",
    "                     na_values=['None', 'none'],\n",
    "                     on_bad_lines='skip',\n",
    "                     engine=\"python\")\n",
    "    \n",
    "    # Convert to numeric, invalid parsing will be set as NaN\n",
    "    df.authorId = pd.to_numeric(df.authorId, errors='coerce')\n",
    "    df.referenceId = pd.to_numeric(df.referenceId, errors='coerce')\n",
    "    df.year = pd.to_numeric(df.year, errors='coerce')\n",
    "    \n",
    "    # Drop records with missing values\n",
    "    df = df.dropna(subset=['authorId', 'referenceId', 'authorName', 'title', 'year'])\n",
    "    \n",
    "    # Replace NaNs in journal to empty strings\n",
    "    df.journal = df.journal.fillna('')\n",
    "    \n",
    "    df = df.astype({'authorId': np.int32, 'referenceId': np.int32, 'year': np.int32})\n",
    "    \n",
    "    # Lowercase the strings\n",
    "    df = df.applymap(lambda s: s.lower() if type(s) == str else s)\n",
    "    return df"
   ]
  },
  {
   "cell_type": "code",
   "execution_count": 3,
   "id": "cb0b3221",
   "metadata": {},
   "outputs": [],
   "source": [
    "def load_data(atomic_list_path,dataset_path):\n",
    "    \n",
    "    with open(atomic_list_path+'atomic_names_list.pickle', 'rb') as handle:\n",
    "        atomic_names_list = pickle.load(handle)\n",
    "\n",
    "    id_paper_dict = {}\n",
    "    for atomic_name in atomic_names_list:\n",
    "        df = read_atomic_file(atomic_name, dataset_path)\n",
    "        df_id_paper_dict = pd.Series(df.title.values,index=df.referenceId).to_dict()\n",
    "        id_paper_dict.update(df_id_paper_dict)\n",
    "        \n",
    "    return id_paper_dict"
   ]
  },
  {
   "cell_type": "code",
   "execution_count": 4,
   "id": "a6216812",
   "metadata": {},
   "outputs": [],
   "source": [
    "atomic_list_path= \"../meta_data/\" \n",
    "dataset_path = \"../and_data/\" \n",
    "destination_dump_path = '/Users/nagaraj/Desktop/author-name-disambiguation-using-mcmc/data/input/Aminer-534K/meta_data/'\n",
    "\n",
    "os.makedirs(destination_dump_path, exist_ok=True)\n",
    "    \n",
    "id_paper_dict = load_data(atomic_list_path,dataset_path)"
   ]
  },
  {
   "cell_type": "code",
   "execution_count": 5,
   "id": "e1f336ba",
   "metadata": {},
   "outputs": [],
   "source": [
    "paper_embeddings = {}\n",
    "for p_id,title in id_paper_dict.items():\n",
    "    paper_embeddings[p_id] = bert_model.encode(title)"
   ]
  },
  {
   "cell_type": "code",
   "execution_count": 6,
   "id": "2773f2f9",
   "metadata": {},
   "outputs": [],
   "source": [
    "with open(destination_dump_path + 'paper_embeddings.pickle', 'wb') as handle:\n",
    "    pickle.dump(paper_embeddings, handle, protocol=pickle.HIGHEST_PROTOCOL)"
   ]
  }
 ],
 "metadata": {
  "kernelspec": {
   "display_name": "Python 3 (ipykernel)",
   "language": "python",
   "name": "python3"
  },
  "language_info": {
   "codemirror_mode": {
    "name": "ipython",
    "version": 3
   },
   "file_extension": ".py",
   "mimetype": "text/x-python",
   "name": "python",
   "nbconvert_exporter": "python",
   "pygments_lexer": "ipython3",
   "version": "3.9.7"
  }
 },
 "nbformat": 4,
 "nbformat_minor": 5
}
